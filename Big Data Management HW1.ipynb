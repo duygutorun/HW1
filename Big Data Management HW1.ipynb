{
 "cells": [
  {
   "cell_type": "markdown",
   "metadata": {},
   "source": [
    "## Big Data Management - HW1"
   ]
  },
  {
   "cell_type": "code",
   "execution_count": 4,
   "metadata": {},
   "outputs": [
    {
     "name": "stdout",
     "output_type": "stream",
     "text": [
      "type the height:3\n",
      "type the length:4\n",
      "type the width:5\n",
      "volume 60.0\n"
     ]
    }
   ],
   "source": [
    "# The program calculates and prints the volume and surface area of a Rectangular Prism. A Rectangular Prism is specified by its length, width, and height\")\n",
    "# Calculates the volume and surface area of a rectangular prism.\n",
    "height=float(input(\"type the height:\"))\n",
    "length=float(input(\"type the length:\"))\n",
    "width=float(input(\"type the width:\"))\n",
    "\n",
    "# get inputs legth, width, and height from the user\n",
    "volume = height * length * width\n",
    "\n",
    "# calculate and store volume and surface area\n",
    "surface_area = 2*(width*length+height*length+height*width)\n",
    "\n",
    "# output the results and end the program\n",
    "print(\"volume\",volume)"
   ]
  },
  {
   "cell_type": "code",
   "execution_count": null,
   "metadata": {},
   "outputs": [],
   "source": []
  }
 ],
 "metadata": {
  "kernelspec": {
   "display_name": "Python 3",
   "language": "python",
   "name": "python3"
  },
  "language_info": {
   "codemirror_mode": {
    "name": "ipython",
    "version": 3
   },
   "file_extension": ".py",
   "mimetype": "text/x-python",
   "name": "python",
   "nbconvert_exporter": "python",
   "pygments_lexer": "ipython3",
   "version": "3.8.3"
  }
 },
 "nbformat": 4,
 "nbformat_minor": 4
}
